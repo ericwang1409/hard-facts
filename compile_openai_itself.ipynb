{
 "cells": [
  {
   "cell_type": "code",
   "execution_count": 1,
   "id": "fbf83d5a",
   "metadata": {},
   "outputs": [],
   "source": [
    "from utils import get_grok_response, get_claude_response, get_openai_response, get_openai_logits\n",
    "from concurrent.futures import ThreadPoolExecutor\n",
    "import tqdm"
   ]
  },
  {
   "cell_type": "code",
   "execution_count": 2,
   "id": "bdfcea68",
   "metadata": {},
   "outputs": [],
   "source": [
    "works = [None for _ in range(5)]\n",
    "works[0] = \"\"\"In modern hospitals, when real-time electroanatomic mapping systems (e.g., CARTO 3, EnSite Precision) are used for catheter ablation of atrial fibrillation, their accuracy in localizing arrhythmogenic foci depends critically on sub-millisecond synchronization between the mapping catheters and external ECG leads. Because of this, hospitals that use “time-sensitive networking” (TSN) protocols to synchronize medical IoT data streams (such as IEEE 802.1AS, deployed for telemetry beds) must implement manual overrides for mapping room switches, since TSN synchronization frames can introduce artifacts into unidirectional, shielded electrophysiology mapping cables, corrupting the 3D localization calculations.  \n",
    "This is documented in:  \n",
    "- The technical supplement “Considerations for Network Synchronization in Electrophysiology Labs” (Abbott, 2021, available by request for hospital IT staff), and  \n",
    "- The IEEE Engineering in Medicine and Biology Society paper “Impact of TSN Protocols on Critical Medical Device Accuracy” (2022), which gives quantitative error rates in the specific context of catheter mapping.\n",
    "\n",
    "**Logically Supported Steps**  \n",
    "1. **Premise:** Modern electroanatomic mapping for atrial fibrillation (AF) ablation demands sub-millisecond time alignment between mapping and surface ECG.\n",
    "2. **Premise:** Many hospital telemetry networks synchronize device clocks using IEEE 802.1AS (a TSN protocol).\n",
    "3. **Premise:** TSN sync frames (by design) propagate system clock traffic throughout the Ethernet network, occasionally “leaking” into analog signal paths through poor shielding or switch design flaws.\n",
    "4. **Premise:** The referenced Abbott technical supplement specifically instructs staff to bypass TSN-enabled switches in EP labs because TSN frames can introduce artifacts, causing mapping system localization errors (false 3D positional data).\n",
    "5. **Premise:** The referenced IEEE paper quantifies the error: mapping precision degrades up to 2.5 mm using default TSN settings in a testbed.\n",
    "6. **Conclusion:** Thus, in hospitals using real-time mapping for catheter ablation, *if* TSN protocols are active on the medical IoT network, then switches serving mapping labs must be manually exempted from TSN frame propagation—or else mapping accuracy is compromised.\n",
    "\n",
    "---\n",
    "\n",
    "**Obscurity:**  \n",
    "- Few clinicians are aware of the interaction between TSN frames and mapping system accuracy (it is not in clinical guidelines).\n",
    "- The Abbott supplement is only available to technical staff and not indexed online.\n",
    "- Search results for “CARTO mapping accuracy” or “TSN protocol artifact ECG” do not yield the relevant fact or connection.\n",
    "\n",
    "**Direct Document Referencing:**  \n",
    "- IEEE Engineering in Medicine and Biology Society, 2022: “Impact of TSN Protocols on Critical Medical Device Accuracy”  \n",
    "- Abbott (St. Jude), 2021: “Considerations for Network Synchronization in Electrophysiology Labs” (internal supplement, distributed to hospital IT during device integration)\n",
    "\n",
    "---\n",
    "\n",
    "**Summary:**  \n",
    "*There is a direct, logic-supported chain: The use of time synchronization protocols (TSN/IEEE 802.1AS) in hospital networks degrades sub-millisecond mapping accuracy in electrophysiological ablation procedures, requiring explicit technical workaround documented in specialized, non-public resources.*\n",
    "\n",
    "Let me know if this meets your standards for a costly, cross-domain, strictly logical, and minimally Googleable inference!\"\"\""
   ]
  },
  {
   "cell_type": "code",
   "execution_count": 3,
   "id": "0fec8fcb",
   "metadata": {},
   "outputs": [],
   "source": [
    "works[1] = \"\"\"## Domains:\n",
    "- **Medical Device Cybersecurity**  \n",
    "- **International Legal Standards/Regulatory Policy**\n",
    "\n",
    "---\n",
    "\n",
    "## Explicit Premises:\n",
    "\n",
    "1. **Premise 1:**  \n",
    "The EU’s Medical Device Regulation (MDR) 2017/745, Article 5, explicitly states that any device with a significant software component must provide evidence of cyber-resilience, including resistance to “deliberate attacks during its lifecycle.”  \n",
    "([Source: MDR Regulation (EU) 2017/745, Article 5–6](https://eur-lex.europa.eu/legal-content/EN/TXT/?uri=CELEX:32017R0745))\n",
    "\n",
    "2. **Premise 2:**  \n",
    "The EU Telecommunications Framework Directive (Directive 2002/21/EC, as amended), Article 13a, imposes legal requirements for “network and information security” specifically on telecom infrastructure, but *not* on endpoint devices (including medical devices), except where those devices are classified as “network elements.”  \n",
    "([Source: [Directive 2002/21/EC (Framework Directive)](https://eur-lex.europa.eu/LexUriServ/LexUriServ.do?uri=CELEX:32002L0021:en:HTML), Article 13a])\n",
    "\n",
    "3. **Premise 3:**  \n",
    "The recently issued *Guidance on Cybersecurity for Medical Devices* from the European Commission (MDCG 2019-16, Rev 3), page 11, states:  \n",
    "> “Responsibility for ensuring the network security of medical, non-implantable endpoint devices (such as infusion pumps) in a hospital environment is shared between the device manufacturer and the hospital’s IT administration. However, Directive 2002/21/EC does not require medical device vendors to provide telecom-network grade protections, unless the device itself is marketed as telecom infrastructure.”  \n",
    "([Source: [MDCG 2019-16 rev.3](https://health.ec.europa.eu/system/files/2021-12/md_mdcg_2019_16_guidance-cybersecurity_en_0.pdf), p.11])\n",
    "\n",
    "---\n",
    "\n",
    "### LOGICAL INFERENCE\n",
    "\n",
    "From premises (1)-(3), we can make the following **strict logical inference**:\n",
    "\n",
    "**Inference:**  \n",
    "For a non-implantable medical device (such as an infusion pump) sold in the EU, it is a regulatory requirement (under MDR) that the device is cyber-resilient—but it is *not* a requirement that it provide protections at the level expected of telecom-network infrastructure, *unless* the device is simultaneously classified as a “network element” under telecom law. Accordingly, any hospital-IT-requested cybersecurity guarantee that exceeds MDR requirements (and matches telecom-network resilience) may legally be declined by the device vendor, unless the device is marketed for integration with telecom infrastructure.\n",
    "\n",
    "**Reasoning:**  \n",
    "- MDR requires cyber-resilience for medical devices.\n",
    "- Telecom Directive extends infrastructure-level requirements only to telecom network elements.\n",
    "- MDCG guidance explicitly parses this distinction.\n",
    "- Thus, medical device vendors are *not* legally required to provide telecom-grade protections unless their device is classified accordingly.\n",
    "\n",
    "---\n",
    "\n",
    "**Why is this obscure?**\n",
    "- The MDR and telecom directives do not cross-reference each other explicitly.\n",
    "- This nuanced interaction is buried in EU Commission guidance—MDCG 2019–16 uses semantic descriptions (device/network boundary), not consistent legal language.\n",
    "- It is exceedingly difficult to find, since searches for “medical device regulation cybersecurity telecom” or similar keywords almost never surface this precise policy boundary.\n",
    "\n",
    "**Semantically related, not keyword-surfaced, document:**  \n",
    "- [MDCG 2019-16 rev. 3 Guidance on Cybersecurity for medical devices](https://health.ec.europa.eu/system/files/2021-12/md_mdcg_2019_16_guidance-cybersecurity_en_0.pdf) (Page 11, “Division of responsibilities...”)\n",
    "\n",
    "---\n",
    "\n",
    "**Summary:**\n",
    "This is a strict, logical regulatory inference that links two costly areas of expertise (medical device cybersecurity and EU telecom law), and draws a defendable conclusion based on explicit, cited premises with no interpretive leaps.\n",
    "\n",
    "Would you like further refinement or a new set of domains?\"\"\""
   ]
  },
  {
   "cell_type": "code",
   "execution_count": 4,
   "id": "19484607",
   "metadata": {},
   "outputs": [],
   "source": [
    "works[2] = \"\"\"\n",
    "**Topic 1:** Cardiac Electrophysiology (cardiologist expertise—specifically, pacemaker and ICD vulnerability detection)  \n",
    "**Topic 2:** Electromagnetic Emanations Analysis (security engineering expertise—TEMPEST, side-channel research, typically a highly specialized area of infosec and national security ops)  \n",
    "\n",
    "**Combined Inference:**\n",
    "\n",
    "*There is ongoing (largely unpublished) research in several NATO-member defense circles into using advanced electromagnetic emanations analysis—techniques originally developed for TEMPEST (a U.S. and NATO standard to prevent leaking data from electronic devices)—for vulnerability detection in cardiac implantable electronic devices (CIEDs), such as pacemakers and defibrillators. The rationale is that certain side-channel emissions from these medical devices (like changes in electromagnetic field patterns during telemetry sync events) can be used non-invasively to fingerprint firmware anomalies, retroactively detect device interference, or even infer details about attempted wireless attacks (such as replayed or malformed Medtronic telemetry packets), sometimes days after the event. This cross-pollination means some of the best methods for detecting previously unknown CIED vulnerabilities now come from ex-military infosec teams, not hospital equipment companies.*\n",
    "\n",
    "- This fact is not easily findable on Google (searches for CIED side-channel, pacemaker temepst, electromagnetic EMSEC medical devices, etc., generate virtually nothing but a few high-level papers with no such inference).\n",
    "- It’s reasonable: Side-channel attacks on medical devices are a known research area, and military infosec teams have advanced knowledge in electromagnetic eavesdropping and analysis; such cross-application is plausible given the stakes and is consistent with the direction of relevant unpublished talks at major security and military medical symposia.\n",
    "- To verify this, someone would likely need deep contacts in both clinical cardiac device research and classified infosec programs.\n",
    "- Key semantic connection: The inference links the *forensic detection* of device vulnerability (not just attack) to *EMSEC/TEMPEST* techniques—something basically not discussable in public academic contexts right now.\n",
    "\n",
    "---\n",
    "\n",
    "**Obscure Document with Semantic Relation:**  \n",
    "Here’s a related but non-obvious document, not easily findable by keyword search:\n",
    "\n",
    "*\"Physical-layer Attacks and Defenses for Implantable Cardiac Devices\"* by Wenyuan Xu, et al., in Communications of the ACM, 2011.\n",
    "\n",
    "While this paper (see DOI: 10.1145/1941487.1941507) is ostensibly about wireless attacks and defenses, it discusses, in a short sidebar, the possibility of “unintended RF emissions” from cardiac devices, but does not elaborate on forensic use for post-hoc vulnerability detection. The actual application—using this for after-the-fact malware/attack detection—has not been published, but the *semantic hints* are present in that obscure segment.\n",
    "\n",
    "---\n",
    "\n",
    "**Summary:**  \n",
    "If you go looking, you’ll find plenty of general research on wireless vulnerabilities in CIEDs, and plenty of literature on TEMPEST in computers—but essentially nothing at the intersection of *using military electromagnetic emanations analysis as a vulnerability and attack detection tool in implantable medical devices*.\n",
    "\n",
    "Let me know how I score!\"\"\""
   ]
  },
  {
   "cell_type": "code",
   "execution_count": 5,
   "id": "002af2c9",
   "metadata": {},
   "outputs": [],
   "source": [
    "works[3] = \"\"\"In certain clinical implantable cardioverter-defibrillators (ICDs)—specifically, devices with wireless telemetry features operating in the MICS band (Medical Implant Communication Service, 402–405 MHz)—the custom, ultra-low latency firmware they use for real-time arrhythmia detection and therapy delivery employs timing-based interrupts at the hardware level. These timing features, designed to ensure consistent therapeutic response, can in theory be subject to side-channel information leaks analogous to timing attacks in cryptographic hardware, especially if a wireless adversary can precisely measure the device’s telemetry handshake/response times under varying operational states. Few cardiologist-electrophysiologists are aware of this theoretical risk, and most hardware security researchers do not have access to proprietary ICD firmware to explore it.\n",
    "\n",
    "*To date, no published ICD exploit in peer-reviewed literature has demonstrated a successful timing-side-channel exfiltration attack on cardiac devices in situ, but some preliminary signals have been discussed in classified/open-source conference workshops (e.g., Black Hat 2018, Barnaby Jack’s earlier work, etc.), and specific timing mechanisms are detailed in patents like Medtronic's US9056264B2 (“System and method for event-based wireless telemetry in an implantable medical device”), which indirectly reveal these security-adjacent vulnerabilities.*\n",
    "\n",
    "**Why it’s hard to find:**  \n",
    "- Crosses over deep, subspecialty technical knowledge in both hardware-level cybersecurity and cardiovascular device electrophysiology.\n",
    "- Relies on technical content in device-specific patents (not easily keyword searchable as “timing side channel”).\n",
    "- Has not been (to my knowledge) directly documented as a security exploit in ICDs in the academic literature.\n",
    "- Only a handful of experts (both hardware security researchers and clinical electrophysiologists with engineering backgrounds) could articulate this connection.\n",
    "\n",
    "---\n",
    "\n",
    "Please let me know if you’d like further detail or a different example from another cross-disciplinary pair!\"\"\""
   ]
  },
  {
   "cell_type": "code",
   "execution_count": 6,
   "id": "1942ee1e",
   "metadata": {},
   "outputs": [],
   "source": [
    "works[4] = \"\"\"**Inference:**  \n",
    "There is a significant but underappreciated parallel in how error-correcting codes are used in both high-throughput DNA sequencing (as discussed in the technical genomics paper “Robustness of DNA Data Storage Systems” by Organick, et al., Nature Biotechnology, 2018) and in the self-healing communications protocols underlying the PRC’s BeiDou satellite system, particularly as described in the semi-obscure Chinese-language technical defense whitepaper “高鲁棒性自主卫星通信技术研究” (“Research of High-Robustness Autonomous Satellite Communication Technology,” 2017, Tsinghua University). Both leverage Reed-Solomon codes, but the satellite system adapts these codes dynamically based on adversarial signal analysis—analogous to how recent DNA storage systems “mutate” code parameters during sequence reconstruction in response to physical or computational noise.\n",
    "\n",
    "This connection—between adaptive Reed-Solomon codes in cutting-edge genomics and the dynamic code adaptation in BeiDou’s internal self-healing communication—demonstrates a rare, meaningful technical overlap that would not be obvious without deep knowledge of both DNA data storage and military-grade satellite communications, nor would it show up in general keyword searches about error-correcting codes.\n",
    "\n",
    "**Document Named:**\n",
    "- “高鲁棒性自主卫星通信技术研究” (“Research of High-Robustness Autonomous Satellite Communication Technology,” Tsinghua University, 2017)  \n",
    "- “Robustness of DNA Data Storage Systems,” Organick et al., Nature Biotechnology, 2018\n",
    "\n",
    "---\n",
    "\n",
    "Let me know how this fares!\"\"\""
   ]
  },
  {
   "cell_type": "code",
   "execution_count": 7,
   "id": "1c033d42",
   "metadata": {},
   "outputs": [
    {
     "name": "stderr",
     "output_type": "stream",
     "text": [
      "Processing:   0%|          | 0/5 [00:00<?, ?work/s]"
     ]
    },
    {
     "data": {
      "text/html": [
       "<span style='color: cyan'>Output token 0:</span> Yes, <span style='color: darkorange'>logprobs:</span> -0.38704705238342285, <span style='color: magenta'>linear probability:</span> 67.91%<br><span style='color: cyan'>Output token 1:</span> No, <span style='color: darkorange'>logprobs:</span> -1.1370470523834229, <span style='color: magenta'>linear probability:</span> 32.08%<br><span style='color: cyan'>Output token 2:</span> yes, <span style='color: darkorange'>logprobs:</span> -9.137046813964844, <span style='color: magenta'>linear probability:</span> 0.01%<br><span style='color: cyan'>Output token 3:</span> no, <span style='color: darkorange'>logprobs:</span> -9.762046813964844, <span style='color: magenta'>linear probability:</span> 0.01%<br><span style='color: cyan'>Output token 4:</span> **, <span style='color: darkorange'>logprobs:</span> -11.762046813964844, <span style='color: magenta'>linear probability:</span> 0.0%<br>"
      ],
      "text/plain": [
       "<IPython.core.display.HTML object>"
      ]
     },
     "metadata": {},
     "output_type": "display_data"
    },
    {
     "data": {
      "text/html": [
       "<span style='color: cyan'>Output token 0:</span> Yes, <span style='color: darkorange'>logprobs:</span> -0.04086576774716377, <span style='color: magenta'>linear probability:</span> 96.0%<br><span style='color: cyan'>Output token 1:</span> No, <span style='color: darkorange'>logprobs:</span> -3.290865659713745, <span style='color: magenta'>linear probability:</span> 3.72%<br><span style='color: cyan'>Output token 2:</span> yes, <span style='color: darkorange'>logprobs:</span> -6.040865898132324, <span style='color: magenta'>linear probability:</span> 0.24%<br><span style='color: cyan'>Output token 3:</span> **, <span style='color: darkorange'>logprobs:</span> -8.540865898132324, <span style='color: magenta'>linear probability:</span> 0.02%<br><span style='color: cyan'>Output token 4:</span> no, <span style='color: darkorange'>logprobs:</span> -8.915865898132324, <span style='color: magenta'>linear probability:</span> 0.01%<br>"
      ],
      "text/plain": [
       "<IPython.core.display.HTML object>"
      ]
     },
     "metadata": {},
     "output_type": "display_data"
    },
    {
     "data": {
      "text/html": [
       "<span style='color: cyan'>Output token 0:</span> Yes, <span style='color: darkorange'>logprobs:</span> -0.0622001513838768, <span style='color: magenta'>linear probability:</span> 93.97%<br><span style='color: cyan'>Output token 1:</span> No, <span style='color: darkorange'>logprobs:</span> -2.8122000694274902, <span style='color: magenta'>linear probability:</span> 6.01%<br><span style='color: cyan'>Output token 2:</span> yes, <span style='color: darkorange'>logprobs:</span> -8.562200546264648, <span style='color: magenta'>linear probability:</span> 0.02%<br><span style='color: cyan'>Output token 3:</span> no, <span style='color: darkorange'>logprobs:</span> -10.687200546264648, <span style='color: magenta'>linear probability:</span> 0.0%<br><span style='color: cyan'>Output token 4:</span> **, <span style='color: darkorange'>logprobs:</span> -11.312200546264648, <span style='color: magenta'>linear probability:</span> 0.0%<br>"
      ],
      "text/plain": [
       "<IPython.core.display.HTML object>"
      ]
     },
     "metadata": {},
     "output_type": "display_data"
    },
    {
     "data": {
      "text/html": [
       "<span style='color: cyan'>Output token 0:</span> No, <span style='color: darkorange'>logprobs:</span> -0.14453119039535522, <span style='color: magenta'>linear probability:</span> 86.54%<br><span style='color: cyan'>Output token 1:</span> Yes, <span style='color: darkorange'>logprobs:</span> -2.01953125, <span style='color: magenta'>linear probability:</span> 13.27%<br><span style='color: cyan'>Output token 2:</span> no, <span style='color: darkorange'>logprobs:</span> -6.39453125, <span style='color: magenta'>linear probability:</span> 0.17%<br><span style='color: cyan'>Output token 3:</span> yes, <span style='color: darkorange'>logprobs:</span> -8.76953125, <span style='color: magenta'>linear probability:</span> 0.02%<br><span style='color: cyan'>Output token 4:</span> **, <span style='color: darkorange'>logprobs:</span> -11.26953125, <span style='color: magenta'>linear probability:</span> 0.0%<br>"
      ],
      "text/plain": [
       "<IPython.core.display.HTML object>"
      ]
     },
     "metadata": {},
     "output_type": "display_data"
    },
    {
     "data": {
      "text/html": [
       "<span style='color: cyan'>Output token 0:</span> Yes, <span style='color: darkorange'>logprobs:</span> -0.2523432970046997, <span style='color: magenta'>linear probability:</span> 77.7%<br><span style='color: cyan'>Output token 1:</span> No, <span style='color: darkorange'>logprobs:</span> -1.5023432970046997, <span style='color: magenta'>linear probability:</span> 22.26%<br><span style='color: cyan'>Output token 2:</span> yes, <span style='color: darkorange'>logprobs:</span> -8.12734317779541, <span style='color: magenta'>linear probability:</span> 0.03%<br><span style='color: cyan'>Output token 3:</span> no, <span style='color: darkorange'>logprobs:</span> -9.12734317779541, <span style='color: magenta'>linear probability:</span> 0.01%<br><span style='color: cyan'>Output token 4:</span> \n",
       ", <span style='color: darkorange'>logprobs:</span> -12.62734317779541, <span style='color: magenta'>linear probability:</span> 0.0%<br>"
      ],
      "text/plain": [
       "<IPython.core.display.HTML object>"
      ]
     },
     "metadata": {},
     "output_type": "display_data"
    },
    {
     "name": "stderr",
     "output_type": "stream",
     "text": [
      "Processing: 100%|██████████| 5/5 [00:06<00:00,  1.35s/work]"
     ]
    },
    {
     "name": "stdout",
     "output_type": "stream",
     "text": [
      "(np.float64(0.03), np.float64(0.01))\n",
      "(np.float64(0.24), np.float64(0.01))\n",
      "(np.float64(0.02), np.float64(0.0))\n",
      "(np.float64(0.01), np.float64(0.01))\n",
      "(np.float64(0.02), np.float64(0.17))\n"
     ]
    },
    {
     "name": "stderr",
     "output_type": "stream",
     "text": [
      "\n"
     ]
    }
   ],
   "source": [
    "yescount = 0\n",
    "nocount = 0\n",
    "\n",
    "def parallel(prompt):\n",
    "    return get_openai_logits(\"is this a logical inference? make sure to say 'yes' or 'no' first without formatting and then explain why. if it is 'no', do not under any circumstances say the word 'yes' anywhere in your response: \" + prompt, \"yes\", \"no\", \"gpt-4o\")\n",
    "\n",
    "with ThreadPoolExecutor(max_workers=10) as executor:\n",
    "    futures = list(tqdm.tqdm(executor.map(parallel, works), total=len(works), desc=\"Processing\", unit=\"work\"))\n",
    "\n",
    "for response in futures:\n",
    "    print(response)\n",
    "    # if \"yes\" in response.lower():\n",
    "    #     yescount += 1\n",
    "    # elif \"no\" in response.lower():\n",
    "    #     nocount += 1\n",
    "\n",
    "# print(\"yescount: \", yescount)\n",
    "# print(\"nocount: \", nocount)"
   ]
  },
  {
   "cell_type": "code",
   "execution_count": null,
   "id": "7079bc94",
   "metadata": {},
   "outputs": [],
   "source": []
  }
 ],
 "metadata": {
  "kernelspec": {
   "display_name": ".venv",
   "language": "python",
   "name": "python3"
  },
  "language_info": {
   "codemirror_mode": {
    "name": "ipython",
    "version": 3
   },
   "file_extension": ".py",
   "mimetype": "text/x-python",
   "name": "python",
   "nbconvert_exporter": "python",
   "pygments_lexer": "ipython3",
   "version": "3.13.2"
  }
 },
 "nbformat": 4,
 "nbformat_minor": 5
}
