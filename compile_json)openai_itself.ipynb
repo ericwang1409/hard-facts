{
 "cells": [
  {
   "cell_type": "code",
   "execution_count": 8,
   "id": "fbf83d5a",
   "metadata": {},
   "outputs": [],
   "source": [
    "from utils import get_grok_response, get_claude_response, get_openai_response, get_openai_logits\n",
    "from concurrent.futures import ThreadPoolExecutor\n",
    "import tqdm\n",
    "import json\n",
    "import numpy as np"
   ]
  },
  {
   "cell_type": "code",
   "execution_count": 9,
   "id": "bdfcea68",
   "metadata": {},
   "outputs": [],
   "source": [
    "gpt4_1 = \"gpt-4.1-2025-04-14\"\n",
    "\n",
    "works = json.load(open(\"model_responses/inferences_true_gpt4o.json\"))"
   ]
  },
  {
   "cell_type": "code",
   "execution_count": 10,
   "id": "1c033d42",
   "metadata": {},
   "outputs": [
    {
     "name": "stderr",
     "output_type": "stream",
     "text": [
      "Processing: 100%|██████████| 10/10 [00:04<00:00,  2.08work/s]"
     ]
    },
    {
     "name": "stdout",
     "output_type": "stream",
     "text": [
      "yescount:  83.236 stdev:  26.08042300270454\n",
      "nocount:  16.761 stdev:  26.076101875088618\n"
     ]
    },
    {
     "name": "stderr",
     "output_type": "stream",
     "text": [
      "\n"
     ]
    }
   ],
   "source": [
    "yescount = []\n",
    "nocount = []\n",
    "\n",
    "def parallel(prompt):\n",
    "    return get_openai_logits(\"is this a logical inference? make sure to say 'yes' or 'no' first without formatting and then explain why. if it is 'no', do not under any circumstances say the word 'yes' anywhere in your response: \" + prompt, \"yes\", \"no\", \"gpt-4o\")\n",
    "\n",
    "with ThreadPoolExecutor(max_workers=10) as executor:\n",
    "    futures = list(tqdm.tqdm(executor.map(parallel, works), total=len(works), desc=\"Processing\", unit=\"work\"))\n",
    "\n",
    "for response in futures:\n",
    "    yescount.append(response[0])\n",
    "    nocount.append(response[1])\n",
    "\n",
    "print(\"yescount: \", np.mean(yescount), \"stdev: \", np.std(yescount))\n",
    "print(\"nocount: \", np.mean(nocount), \"stdev: \", np.std(nocount))"
   ]
  },
  {
   "cell_type": "code",
   "execution_count": null,
   "id": "7079bc94",
   "metadata": {},
   "outputs": [],
   "source": []
  }
 ],
 "metadata": {
  "kernelspec": {
   "display_name": ".venv",
   "language": "python",
   "name": "python3"
  },
  "language_info": {
   "codemirror_mode": {
    "name": "ipython",
    "version": 3
   },
   "file_extension": ".py",
   "mimetype": "text/x-python",
   "name": "python",
   "nbconvert_exporter": "python",
   "pygments_lexer": "ipython3",
   "version": "3.13.2"
  }
 },
 "nbformat": 4,
 "nbformat_minor": 5
}
